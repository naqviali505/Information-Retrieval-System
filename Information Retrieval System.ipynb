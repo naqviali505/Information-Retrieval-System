{
  "cells": [
    {
      "cell_type": "code",
      "execution_count": null,
      "metadata": {
        "id": "bV8aJD9yo7CD"
      },
      "outputs": [],
      "source": [
        "import numpy as np\n",
        "import os"
      ]
    },
    {
      "cell_type": "code",
      "source": [
        "from google.colab import drive\n",
        "drive.mount('/content/drive')"
      ],
      "metadata": {
        "colab": {
          "base_uri": "https://localhost:8080/"
        },
        "id": "Q9gaDjs6mrXO",
        "outputId": "69e601d9-cb80-448e-bed5-0f5956a3ffb4"
      },
      "execution_count": null,
      "outputs": [
        {
          "output_type": "stream",
          "name": "stdout",
          "text": [
            "Drive already mounted at /content/drive; to attempt to forcibly remount, call drive.mount(\"/content/drive\", force_remount=True).\n"
          ]
        }
      ]
    },
    {
      "cell_type": "code",
      "source": [
        "from os import listdir as ops\n",
        "fileNameList=[]\n",
        "fileNameList=[i for i in ops(\"/content/drive/MyDrive/ACL text_BS-20221030T152021Z-001/ACL text_BS\") if i.endswith(\".txt\")]\n",
        "print(fileNameList)"
      ],
      "metadata": {
        "colab": {
          "base_uri": "https://localhost:8080/"
        },
        "id": "djM9NxPynO-Z",
        "outputId": "3bc9eb74-f2df-48e4-d63d-189b4e45065d"
      },
      "execution_count": null,
      "outputs": [
        {
          "output_type": "stream",
          "name": "stdout",
          "text": [
            "['A94-1031.pdf.txt', 'A94-1028.pdf.txt', 'A94-1032.pdf.txt', 'A94-1027.pdf.txt', 'A94-1036.pdf.txt', 'A94-1040.pdf.txt', 'A94-1044.pdf.txt', 'A94-1035.pdf.txt', 'A94-1042.pdf.txt', 'A94-1037.pdf.txt', 'A94-1043.pdf.txt', 'A94-1045.pdf.txt', 'A94-1034.pdf.txt', 'A94-1039.pdf.txt', 'A94-1041.pdf.txt', 'A94-1046.pdf.txt', 'A94-1038.pdf.txt', 'A97-1003.pdf.txt', 'A97-1000.pdf.txt', 'A97-1002.pdf.txt', 'A97-1004.pdf.txt', 'A97-1001.pdf.txt', 'A94-1047.pdf.txt', 'A97-1005.pdf.txt', 'A97-1011.pdf.txt', 'A97-1009.pdf.txt', 'A97-1008.pdf.txt', 'A97-1006.pdf.txt', 'A97-1012.pdf.txt', 'A97-1010.pdf.txt', 'A97-1007.pdf.txt', 'A97-1020.pdf.txt', 'A97-1014.pdf.txt', 'A97-1018.pdf.txt', 'A97-1015.pdf.txt', 'A97-1021.pdf.txt', 'A97-1016.pdf.txt', 'A97-1019.pdf.txt', 'A97-1013.pdf.txt', 'A97-1017.pdf.txt', 'A97-1026.pdf.txt', 'A97-1025.pdf.txt', 'A97-1028.pdf.txt', 'A97-1024.pdf.txt', 'A97-1023.pdf.txt', 'A97-1029.pdf.txt', 'A97-1027.pdf.txt', 'A97-1022.pdf.txt', 'A97-1035.pdf.txt', 'A97-1034.pdf.txt', 'A97-1031.pdf.txt', 'A97-1030.pdf.txt', 'A97-1032.pdf.txt', 'A97-1036.pdf.txt', 'A97-1033.pdf.txt', 'A97-1038.pdf.txt', 'A97-1039.pdf.txt', 'A97-1037.pdf.txt', 'A97-1045.pdf.txt', 'A97-1040.pdf.txt', 'A97-1044.pdf.txt', 'A97-1041.pdf.txt', 'A97-1046.pdf.txt', 'A97-1043.pdf.txt', 'A97-1042.pdf.txt', 'A97-1047.pdf.txt', 'A97-1048.pdf.txt', 'A97-1049.pdf.txt', 'A97-1050.pdf.txt', 'A97-1051.pdf.txt', 'A97-1053.pdf.txt', 'A97-1052.pdf.txt', 'A97-1054.pdf.txt', 'A97-1055.pdf.txt', 'A97-2004.pdf.txt', 'A97-2001.pdf.txt', 'A97-2007.pdf.txt', 'A97-1056.pdf.txt', 'A97-2011.pdf.txt', 'A97-2002.pdf.txt', 'A97-2005.pdf.txt', 'A97-2003.pdf.txt', 'A97-2009.pdf.txt', 'A97-2006.pdf.txt', 'A97-2010.pdf.txt', 'A97-2000.pdf.txt', 'A97-2008.pdf.txt', 'A97-2020.pdf.txt', 'A97-2013.pdf.txt', 'A97-2021.pdf.txt', 'A97-2017.pdf.txt', 'A97-2019.pdf.txt', 'A97-2015.pdf.txt', 'A97-2018.pdf.txt', 'A97-2014.pdf.txt', 'A97-2016.pdf.txt', 'A97-2012.pdf.txt', 'D08-1001.pdf.txt', 'D08-1000.pdf.txt', 'D08-1003.pdf.txt', 'D08-1002.pdf.txt', 'D08-1006.pdf.txt', 'D08-1004.pdf.txt', 'D08-1005.pdf.txt', 'D08-1007.pdf.txt', 'D08-1008.pdf.txt', 'D08-1009.pdf.txt', 'D08-1011.pdf.txt', 'D08-1010.pdf.txt', 'D08-1012.pdf.txt', 'D08-1013.pdf.txt', 'D08-1015.pdf.txt', 'D08-1014.pdf.txt', 'D08-1017.pdf.txt', 'D08-1016.pdf.txt', 'D08-1019.pdf.txt', 'D08-1018.pdf.txt', 'D08-1020.pdf.txt', 'D08-1021.pdf.txt', 'D08-1024.pdf.txt', 'D08-1023.pdf.txt', 'D08-1022.pdf.txt', 'D08-1025.pdf.txt', 'D08-1027.pdf.txt', 'D08-1028.pdf.txt', 'D08-1026.pdf.txt', 'D08-1030.pdf.txt', 'D08-1029.pdf.txt', 'D08-1031.pdf.txt', 'D08-1033.pdf.txt', 'D08-1032.pdf.txt', 'D08-1034.pdf.txt', 'D08-1036.pdf.txt', 'D08-1037.pdf.txt', 'D08-1035.pdf.txt', 'D08-1040.pdf.txt', 'D08-1038.pdf.txt', 'D08-1039.pdf.txt', 'D08-1041.pdf.txt', 'D08-1044.pdf.txt', 'D08-1042.pdf.txt', 'D08-1043.pdf.txt', 'D08-1045.pdf.txt', 'D08-1046.pdf.txt', 'D08-1048.pdf.txt', 'D08-1047.pdf.txt', 'D08-1050.pdf.txt', 'D08-1049.pdf.txt', 'D08-1052.pdf.txt', 'D08-1051.pdf.txt', 'D08-1055.pdf.txt', 'D08-1056.pdf.txt', 'D08-1053.pdf.txt', 'D08-1054.pdf.txt', 'D08-1058.pdf.txt', 'D08-1059.pdf.txt', 'D08-1057.pdf.txt', 'D08-1061.pdf.txt', 'D08-1060.pdf.txt', 'D08-1062.pdf.txt', 'D08-1063.pdf.txt', 'D08-1064.pdf.txt', 'D08-1065.pdf.txt', 'D08-1068.pdf.txt', 'D08-1067.pdf.txt', 'D08-1066.pdf.txt', 'D08-1069.pdf.txt', 'D08-1071.pdf.txt', 'D08-1070.pdf.txt', 'D08-1072.pdf.txt', 'D08-1073.pdf.txt', 'D08-1075.pdf.txt', 'D08-1074.pdf.txt', 'D08-1076.pdf.txt', 'D08-1077.pdf.txt', 'D08-1078.pdf.txt', 'D08-1079.pdf.txt', 'D08-1082.pdf.txt', 'D08-1080.pdf.txt', 'D08-1081.pdf.txt', 'D08-1085.pdf.txt', 'D08-1086.pdf.txt', 'D08-1087.pdf.txt', 'D08-1083.pdf.txt', 'D08-1084.pdf.txt', 'D08-1089.pdf.txt', 'D08-1090.pdf.txt', 'D08-1088.pdf.txt', 'D08-1091.pdf.txt', 'D08-1093.pdf.txt', 'D08-1092.pdf.txt', 'D08-1094.pdf.txt', 'D08-1095.pdf.txt', 'D08-1097.pdf.txt', 'D08-1098.pdf.txt', 'D08-1096.pdf.txt', 'D08-1103.pdf.txt', 'D08-1102.pdf.txt', 'D08-1100.pdf.txt', 'D08-1101.pdf.txt', 'D08-1099.pdf.txt', 'D08-1108.pdf.txt', 'D08-1107.pdf.txt', 'D08-1105.pdf.txt', 'D08-1106.pdf.txt', 'D08-1104.pdf.txt', 'D08-1110.pdf.txt', 'D08-1113.pdf.txt', 'D08-1111.pdf.txt', 'D08-1112.pdf.txt', 'D08-1109.pdf.txt', 'D09-1002.pdf.txt', 'D08-1114.pdf.txt', 'D09-1001.pdf.txt', 'D09-1000.pdf.txt', 'D09-1004.pdf.txt', 'D09-1006.pdf.txt', 'D09-1005.pdf.txt', 'D09-1003.pdf.txt', 'D09-1008.pdf.txt', 'D09-1007.pdf.txt', 'D09-1011.pdf.txt', 'D09-1010.pdf.txt', 'D09-1009.pdf.txt', 'D09-1014.pdf.txt', 'D09-1013.pdf.txt', 'D09-1012.pdf.txt', 'D09-1015.pdf.txt', 'D09-1017.pdf.txt', 'D09-1016.pdf.txt', 'D09-1020.pdf.txt', 'D09-1018.pdf.txt', 'D09-1019.pdf.txt', 'D09-1022.pdf.txt', 'D09-1021.pdf.txt', 'D09-1025.pdf.txt', 'D09-1024.pdf.txt', 'D09-1026.pdf.txt', 'D09-1023.pdf.txt', 'D09-1027.pdf.txt', 'D09-1028.pdf.txt', 'D09-1030.pdf.txt', 'D09-1029.pdf.txt', 'D09-1031.pdf.txt', 'D09-1033.pdf.txt', 'D09-1032.pdf.txt', 'D09-1036.pdf.txt', 'D09-1034.pdf.txt', 'D09-1035.pdf.txt', 'D09-1037.pdf.txt', 'D09-1039.pdf.txt', 'D09-1038.pdf.txt', 'D09-1040.pdf.txt', 'D09-1041.pdf.txt', 'D09-1044.pdf.txt', 'D09-1042.pdf.txt', 'D09-1043.pdf.txt', 'D09-1045.pdf.txt', 'D09-1046.pdf.txt', 'D09-1047.pdf.txt', 'D09-1050.pdf.txt', 'D09-1049.pdf.txt', 'D09-1051.pdf.txt', 'D09-1048.pdf.txt', 'D09-1052.pdf.txt', 'D09-1053.pdf.txt', 'D09-1055.pdf.txt', 'D09-1054.pdf.txt', 'D09-1056.pdf.txt', 'D09-1057.pdf.txt', 'D09-1060.pdf.txt', 'D09-1058.pdf.txt', 'D09-1059.pdf.txt', 'D09-1062.pdf.txt', 'D09-1061.pdf.txt', 'D09-1063.pdf.txt', 'D09-1064.pdf.txt', 'D09-1065.pdf.txt', 'D09-1066.pdf.txt', 'D09-1068.pdf.txt', 'D09-1067.pdf.txt', 'D09-1071.pdf.txt', 'D09-1069.pdf.txt', 'D09-1070.pdf.txt', 'D09-1074.pdf.txt', 'D09-1073.pdf.txt', 'D09-1072.pdf.txt', 'D09-1075.pdf.txt', 'D09-1077.pdf.txt', 'D09-1076.pdf.txt', 'D09-1081.pdf.txt', 'D09-1080.pdf.txt', 'D09-1078.pdf.txt', 'D09-1079.pdf.txt', 'D09-1082.pdf.txt', 'D09-1083.pdf.txt', 'D09-1085.pdf.txt', 'D09-1084.pdf.txt', 'D09-1087.pdf.txt', 'D09-1088.pdf.txt', 'D09-1086.pdf.txt', 'D09-1091.pdf.txt', 'D09-1089.pdf.txt', 'D09-1090.pdf.txt', 'D09-1092.pdf.txt', 'D09-1093.pdf.txt', 'D09-1094.pdf.txt', 'D09-1095.pdf.txt', 'D09-1096.pdf.txt', 'D09-1098.pdf.txt', 'D09-1097.pdf.txt', 'D09-1099.pdf.txt', 'D09-1101.pdf.txt', 'D09-1100.pdf.txt', 'D09-1103.pdf.txt', 'D09-1102.pdf.txt', 'D09-1105.pdf.txt', 'D09-1106.pdf.txt', 'D09-1104.pdf.txt', 'D09-1108.pdf.txt', 'D09-1109.pdf.txt', 'D09-1107.pdf.txt', 'D09-1112.pdf.txt', 'D09-1111.pdf.txt', 'D09-1110.pdf.txt', 'D09-1113.pdf.txt', 'D09-1114.pdf.txt', 'D09-1115.pdf.txt', 'D09-1117.pdf.txt', 'D09-1116.pdf.txt', 'D09-1119.pdf.txt', 'D09-1120.pdf.txt', 'D09-1118.pdf.txt', 'D09-1123.pdf.txt', 'D09-1122.pdf.txt', 'D09-1121.pdf.txt', 'D09-1125.pdf.txt', 'D09-1124.pdf.txt', 'D09-1126.pdf.txt', 'D09-1129.pdf.txt', 'D09-1128.pdf.txt', 'D09-1127.pdf.txt', 'D09-1130.pdf.txt', 'D09-1131.pdf.txt', 'D09-1134.pdf.txt', 'D09-1133.pdf.txt', 'D09-1132.pdf.txt', 'D09-1135.pdf.txt', 'D09-1136.pdf.txt', 'D09-1139.pdf.txt', 'D09-1140.pdf.txt', 'D09-1137.pdf.txt', 'D09-1138.pdf.txt', 'D09-1142.pdf.txt', 'D09-1141.pdf.txt', 'D09-1145.pdf.txt', 'D09-1143.pdf.txt', 'D09-1146.pdf.txt', 'D09-1144.pdf.txt', 'D09-1148.pdf.txt', 'D09-1147.pdf.txt', 'D09-1149.pdf.txt', 'D09-1151.pdf.txt', 'D09-1150.pdf.txt', 'D09-1153.pdf.txt', 'D09-1152.pdf.txt', 'D09-1155.pdf.txt', 'D09-1156.pdf.txt', 'D09-1154.pdf.txt', 'D09-1158.pdf.txt', 'D09-1157.pdf.txt', 'D09-1160.pdf.txt', 'D09-1159.pdf.txt', 'D09-1161.pdf.txt', 'D11-1000.pdf.txt', 'D09-1162.pdf.txt', 'D09-1163.pdf.txt', 'D11-1003.pdf.txt', 'D11-1002.pdf.txt', 'D11-1001.pdf.txt', 'D11-1005.pdf.txt', 'D11-1004.pdf.txt', 'D11-1006.pdf.txt', 'D11-1009.pdf.txt', 'D11-1007.pdf.txt', 'D11-1008.pdf.txt', 'D11-1011.pdf.txt', 'D11-1012.pdf.txt', 'D11-1010.pdf.txt', 'D11-1014.pdf.txt', 'D11-1015.pdf.txt', 'D11-1013.pdf.txt', 'D11-1016.pdf.txt', 'D11-1017.pdf.txt', 'D11-1018.pdf.txt', 'D11-1019.pdf.txt', 'D11-1020.pdf.txt', 'D11-1021.pdf.txt', 'D11-1022.pdf.txt', 'D11-1024.pdf.txt', 'D11-1023.pdf.txt', 'D11-1026.pdf.txt', 'D11-1025.pdf.txt', 'D11-1028.pdf.txt', 'D11-1027.pdf.txt', 'D11-1030.pdf.txt', 'D11-1032.pdf.txt', 'D11-1031.pdf.txt', 'D11-1029.pdf.txt', 'D11-1034.pdf.txt', 'D11-1035.pdf.txt', 'D11-1033.pdf.txt', 'D11-1037.pdf.txt', 'D11-1036.pdf.txt', 'D11-1038.pdf.txt', 'D11-1039.pdf.txt', 'D11-1040.pdf.txt', 'D11-1043.pdf.txt', 'D11-1041.pdf.txt', 'D11-1042.pdf.txt', 'D11-1045.pdf.txt', 'D11-1044.pdf.txt', 'D11-1046.pdf.txt', 'D11-1048.pdf.txt', 'D11-1047.pdf.txt', 'D11-1049.pdf.txt', 'D11-1052.pdf.txt', 'D11-1050.pdf.txt', 'D11-1051.pdf.txt', 'D11-1054.pdf.txt', 'D11-1055.pdf.txt', 'D11-1053.pdf.txt', 'D11-1057.pdf.txt', 'D11-1056.pdf.txt', 'D11-1059.pdf.txt', 'D11-1058.pdf.txt', 'D11-1061.pdf.txt', 'D11-1060.pdf.txt', 'D11-1062.pdf.txt', 'D11-1063.pdf.txt', 'D11-1064.pdf.txt', 'D11-1065.pdf.txt', 'D11-1067.pdf.txt', 'D11-1066.pdf.txt', 'D11-1068.pdf.txt', 'D11-1069.pdf.txt', 'D11-1070.pdf.txt', 'D11-1072.pdf.txt', 'D11-1071.pdf.txt', 'D11-1073.pdf.txt', 'D11-1074.pdf.txt', 'D11-1075.pdf.txt', 'D11-1077.pdf.txt', 'D11-1076.pdf.txt', 'D11-1078.pdf.txt', 'D11-1079.pdf.txt', 'D11-1080.pdf.txt', 'D11-1083.pdf.txt', 'D11-1081.pdf.txt', 'D11-1082.pdf.txt', 'D11-1085.pdf.txt', 'D11-1084.pdf.txt', 'D11-1086.pdf.txt', 'D11-1087.pdf.txt', 'D11-1088.pdf.txt', 'D11-1089.pdf.txt', 'D11-1090.pdf.txt', 'D11-1091.pdf.txt', 'D11-1093.pdf.txt', 'D11-1092.pdf.txt', 'D11-1096.pdf.txt', 'D11-1094.pdf.txt', 'D11-1097.pdf.txt', 'D11-1095.pdf.txt', 'D11-1099.pdf.txt', 'D11-1098.pdf.txt', 'D11-1100.pdf.txt', 'D11-1101.pdf.txt', 'D11-1103.pdf.txt', 'D11-1102.pdf.txt', 'D11-1105.pdf.txt', 'D11-1104.pdf.txt', 'D11-1107.pdf.txt', 'D11-1106.pdf.txt', 'D11-1108.pdf.txt', 'D11-1110.pdf.txt', 'D11-1109.pdf.txt', 'D11-1112.pdf.txt', 'D11-1111.pdf.txt', 'D11-1115.pdf.txt', 'D11-1113.pdf.txt', 'D11-1114.pdf.txt', 'D11-1117.pdf.txt', 'D11-1116.pdf.txt', 'D11-1120.pdf.txt', 'D11-1118.pdf.txt', 'D11-1119.pdf.txt', 'D11-1122.pdf.txt', 'D11-1121.pdf.txt', 'D11-1125.pdf.txt', 'D11-1123.pdf.txt', 'D11-1126.pdf.txt', 'D11-1124.pdf.txt', 'D11-1129.pdf.txt', 'D11-1128.pdf.txt', 'D11-1127.pdf.txt', 'D11-1130.pdf.txt', 'D11-1131.pdf.txt', 'D11-1132.pdf.txt', 'D11-1134.pdf.txt', 'D11-1133.pdf.txt', 'D11-1135.pdf.txt', 'D11-1136.pdf.txt', 'D11-1137.pdf.txt', 'D11-1138.pdf.txt', 'D11-1139.pdf.txt', 'D11-1140.pdf.txt', 'D11-1141.pdf.txt', 'D11-1142.pdf.txt', 'D11-1144.pdf.txt', 'D11-1143.pdf.txt', 'D11-1147.pdf.txt', 'D11-1145.pdf.txt', 'D11-1146.pdf.txt', 'D12-1001.pdf.txt', 'D11-1148.pdf.txt', 'D12-1000.pdf.txt', 'D11-1149.pdf.txt', 'D12-1002.pdf.txt', 'D12-1004.pdf.txt', 'D12-1003.pdf.txt', 'D12-1005.pdf.txt', 'D12-1006.pdf.txt', 'D12-1007.pdf.txt', 'D12-1008.pdf.txt', 'D12-1010.pdf.txt', 'D12-1009.pdf.txt', 'D12-1011.pdf.txt', 'D12-1012.pdf.txt', 'D12-1014.pdf.txt', 'D12-1013.pdf.txt', 'D12-1016.pdf.txt', 'D12-1015.pdf.txt', 'D12-1017.pdf.txt', 'D12-1018.pdf.txt', 'D12-1020.pdf.txt', 'D12-1019.pdf.txt', 'D12-1021.pdf.txt', 'D12-1022.pdf.txt', 'D12-1024.pdf.txt', 'D12-1023.pdf.txt', 'D12-1025.pdf.txt', 'D12-1027.pdf.txt', 'D12-1026.pdf.txt', 'D12-1030.pdf.txt', 'D12-1029.pdf.txt', 'D12-1028.pdf.txt', 'D12-1031.pdf.txt', 'D12-1032v2.pdf.txt', 'D12-1032.pdf.txt', 'D12-1035.pdf.txt', 'D12-1034.pdf.txt', 'D12-1033.pdf.txt', 'D12-1036.pdf.txt', 'D12-1037.pdf.txt', 'D12-1040.pdf.txt', 'D12-1039.pdf.txt', 'D12-1038.pdf.txt', 'D12-1041.pdf.txt', 'D12-1043.pdf.txt', 'D12-1042.pdf.txt', 'D12-1044.pdf.txt', 'D12-1046.pdf.txt', 'D12-1045.pdf.txt', 'D12-1047.pdf.txt', 'D12-1048.pdf.txt', 'D12-1050.pdf.txt', 'D12-1049.pdf.txt', 'D12-1054.pdf.txt', 'D12-1053.pdf.txt', 'D12-1051.pdf.txt', 'D12-1052.pdf.txt', 'D12-1055.pdf.txt', 'D12-1056.pdf.txt', 'D12-1058.pdf.txt', 'D12-1057.pdf.txt', 'D12-1059.pdf.txt', 'D12-1061.pdf.txt', 'D12-1060.pdf.txt', 'D12-1062.pdf.txt', 'D12-1063.pdf.txt', 'D12-1064.pdf.txt', 'D12-1068.pdf.txt', 'D12-1065.pdf.txt', 'D12-1067.pdf.txt', 'D12-1066.pdf.txt', 'D12-1071.pdf.txt', 'D12-1070.pdf.txt', 'D12-1069.pdf.txt', 'D12-1074.pdf.txt', 'D12-1072.pdf.txt', 'D12-1073.pdf.txt', 'D12-1076.pdf.txt', 'D12-1077.pdf.txt', 'D12-1075.pdf.txt', 'D12-1078.pdf.txt', 'D12-1080.pdf.txt', 'D12-1079.pdf.txt', 'D12-1082.pdf.txt', 'D12-1081.pdf.txt', 'D12-1083.pdf.txt', 'D12-1084.pdf.txt', 'D12-1085.pdf.txt', 'D12-1086.pdf.txt', 'D12-1088.pdf.txt', 'D12-1087.pdf.txt', 'D12-1089.pdf.txt', 'D12-1090.pdf.txt', 'D12-1092.pdf.txt', 'D12-1091.pdf.txt', 'D12-1093.pdf.txt', 'D12-1094.pdf.txt', 'D12-1095.pdf.txt', 'D12-1098.pdf.txt', 'D12-1097.pdf.txt', 'D12-1096.pdf.txt', 'D12-1099.pdf.txt', 'D12-1100.pdf.txt', 'D12-1102.pdf.txt', 'D12-1101.pdf.txt', 'D12-1104.pdf.txt', 'D12-1105.pdf.txt', 'D12-1103.pdf.txt', 'D12-1106.pdf.txt', 'D12-1107.pdf.txt', 'D12-1108.pdf.txt', 'D12-1109.pdf.txt', 'D12-1112.pdf.txt', 'D12-1110.pdf.txt', 'D12-1111.pdf.txt', 'D12-1114.pdf.txt', 'D12-1115.pdf.txt', 'D12-1113.pdf.txt', 'D12-1118.pdf.txt', 'D12-1116.pdf.txt', 'D12-1117.pdf.txt', 'D12-1119.pdf.txt', 'D12-1120.pdf.txt', 'D12-1121.pdf.txt', 'D12-1122.pdf.txt', 'D12-1123.pdf.txt', 'D12-1125.pdf.txt', 'D12-1124.pdf.txt', 'D12-1127.pdf.txt', 'D12-1128.pdf.txt', 'D12-1126.pdf.txt', 'D12-1129.pdf.txt', 'D12-1131.pdf.txt', 'D12-1132.pdf.txt', 'D12-1130.pdf.txt', 'D12-1134.pdf.txt', 'D12-1133.pdf.txt', 'D12-1135.pdf.txt', 'D12-1138.pdf.txt', 'D12-1137.pdf.txt', 'D12-1136.pdf.txt', 'D12-1139.pdf.txt', 'D13-1002.pdf.txt', 'D13-1000.pdf.txt', 'D13-1001.pdf.txt', 'D13-1006.pdf.txt', 'D13-1004.pdf.txt', 'D13-1003.pdf.txt', 'D13-1005.pdf.txt', 'D13-1008.pdf.txt', 'D13-1009.pdf.txt', 'D13-1007.pdf.txt', 'D13-1012.pdf.txt', 'D13-1011.pdf.txt', 'D13-1013.pdf.txt', 'D13-1010.pdf.txt', 'D13-1016.pdf.txt', 'D13-1015.pdf.txt', 'D13-1018.pdf.txt', 'D13-1017.pdf.txt', 'D13-1014.pdf.txt', 'D13-1019.pdf.txt', 'D13-1020.pdf.txt', 'D13-1021.pdf.txt', 'D13-1022.pdf.txt', 'D13-1023.pdf.txt', 'D13-1026.pdf.txt', 'D13-1025.pdf.txt', 'D13-1024.pdf.txt', 'D13-1029.pdf.txt', 'D13-1028.pdf.txt', 'D13-1027.pdf.txt', 'D13-1033.pdf.txt', 'D13-1031.pdf.txt', 'D13-1032.pdf.txt', 'D13-1030.pdf.txt', 'D13-1035.pdf.txt', 'D13-1034.pdf.txt', 'D13-1036.pdf.txt', 'D13-1037.pdf.txt', 'D13-1039.pdf.txt', 'D13-1038.pdf.txt', 'D13-1041.pdf.txt', 'D13-1040.pdf.txt', 'D13-1042.pdf.txt', 'D13-1043.pdf.txt', 'D13-1044.pdf.txt', 'D13-1045.pdf.txt', 'D13-1046.pdf.txt', 'D13-1050.pdf.txt', 'D13-1047.pdf.txt', 'D13-1048.pdf.txt', 'D13-1049.pdf.txt', 'D13-1051.pdf.txt', 'D13-1053.pdf.txt', 'D13-1052.pdf.txt', 'D13-1055.pdf.txt', 'D13-1056.pdf.txt', 'D13-1054.pdf.txt', 'D13-1057.pdf.txt', 'D13-1058.pdf.txt', 'D13-1060.pdf.txt', 'D13-1059.pdf.txt', 'D13-1062.pdf.txt', 'D13-1064.pdf.txt', 'D13-1061.pdf.txt', 'D13-1063.pdf.txt', 'D13-1067.pdf.txt', 'D13-1066.pdf.txt', 'D13-1065.pdf.txt', 'D13-1068.pdf.txt', 'D13-1070.pdf.txt', 'D13-1069.pdf.txt', 'D13-1071.pdf.txt', 'D13-1072.pdf.txt', 'D13-1074.pdf.txt', 'D13-1075.pdf.txt', 'D13-1073.pdf.txt', 'D13-1078.pdf.txt', 'D13-1080.pdf.txt', 'D13-1081.pdf.txt', 'D13-1079.pdf.txt', 'D13-1076.pdf.txt', 'D13-1077.pdf.txt', 'D13-1084.pdf.txt', 'D13-1087.pdf.txt', 'D13-1086.pdf.txt', 'D13-1083.pdf.txt', 'D13-1082.pdf.txt', 'D13-1085.pdf.txt', 'D13-1089.pdf.txt', 'D13-1088.pdf.txt', 'D13-1090.pdf.txt', 'D13-1091.pdf.txt', 'D13-1092.pdf.txt', 'D13-1093.pdf.txt', 'D13-1095.pdf.txt', 'D13-1094.pdf.txt', 'D13-1099.pdf.txt', 'D13-1098.pdf.txt', 'D13-1096.pdf.txt', 'D13-1097.pdf.txt', 'D13-1102.pdf.txt', 'D13-1101.pdf.txt', 'D13-1103.pdf.txt', 'D13-1100.pdf.txt', 'D13-1104.pdf.txt', 'D13-1106.pdf.txt', 'D13-1107.pdf.txt', 'D13-1105.pdf.txt', 'D13-1111.pdf.txt', 'D13-1110.pdf.txt', 'D13-1109.pdf.txt', 'D13-1108.pdf.txt', 'D13-1114.pdf.txt', 'D13-1112.pdf.txt', 'D13-1113.pdf.txt', 'D13-1117.pdf.txt', 'D13-1118.pdf.txt', 'D13-1116.pdf.txt', 'D13-1115.pdf.txt', 'D13-1120.pdf.txt', 'D13-1121.pdf.txt', 'D13-1122.pdf.txt', 'D13-1119.pdf.txt', 'D13-1123.pdf.txt', 'D13-1123v2.pdf.txt', 'D13-1124.pdf.txt', 'D13-1126.pdf.txt', 'D13-1125.pdf.txt', 'D13-1127.pdf.txt', 'D13-1128.pdf.txt', 'D13-1129.pdf.txt', 'D13-1131.pdf.txt', 'D13-1132.pdf.txt', 'D13-1130.pdf.txt', 'D13-1133.pdf.txt', 'D13-1134.pdf.txt', 'D13-1135.pdf.txt', 'D13-1136.pdf.txt', 'D13-1139.pdf.txt', 'D13-1140.pdf.txt', 'D13-1138.pdf.txt', 'D13-1137.pdf.txt', 'D13-1144.pdf.txt', 'D13-1141.pdf.txt', 'D13-1142.pdf.txt', 'D13-1143.pdf.txt', 'D13-1149.pdf.txt', 'D13-1148.pdf.txt', 'D13-1147.pdf.txt', 'D13-1145.pdf.txt', 'D13-1150.pdf.txt', 'D13-1146.pdf.txt', 'D13-1151.pdf.txt', 'D13-1153.pdf.txt', 'D13-1154.pdf.txt', 'D13-1152.pdf.txt', 'D13-1156.pdf.txt', 'D13-1155.pdf.txt', 'D13-1159.pdf.txt', 'D13-1157.pdf.txt', 'D13-1158.pdf.txt', 'D13-1162.pdf.txt', 'D13-1160.pdf.txt', 'D13-1161.pdf.txt', 'D13-1163.pdf.txt', 'D13-1164.pdf.txt', 'D13-1165.pdf.txt', 'D13-1167.pdf.txt', 'D13-1166.pdf.txt', 'D13-1168.pdf.txt', 'D13-1169.pdf.txt', 'D13-1170.pdf.txt', 'D13-1172.pdf.txt', 'D13-1174.pdf.txt', 'D13-1173.pdf.txt', 'D13-1171.pdf.txt', 'D13-1177.pdf.txt', 'D13-1176.pdf.txt', 'D13-1175.pdf.txt', 'D13-1180.pdf.txt', 'D13-1179.pdf.txt', 'D13-1178.pdf.txt', 'D13-1182.pdf.txt', 'D13-1181.pdf.txt', 'D13-1184.pdf.txt', 'D13-1185.pdf.txt', 'D13-1186.pdf.txt', 'D13-1183.pdf.txt', 'D13-1188.pdf.txt', 'D13-1187.pdf.txt', 'D13-1189.pdf.txt', 'D13-1192.pdf.txt', 'D13-1193.pdf.txt', 'D13-1191.pdf.txt', 'D13-1190.pdf.txt', 'D13-1194.pdf.txt', 'D13-1195.pdf.txt', 'D13-1197.pdf.txt', 'D13-1196.pdf.txt', 'D13-1200.pdf.txt', 'D13-1199.pdf.txt', 'D13-1198.pdf.txt', 'D13-1201.pdf.txt', 'D13-1202.pdf.txt', 'D13-1203.pdf.txt', 'D13-1204.pdf.txt', 'D14-1001.pdf.txt', 'D14-1000.pdf.txt', 'D13-1205.pdf.txt', 'D14-1002.pdf.txt', 'D14-1003.pdf.txt', 'D14-1005.pdf.txt', 'D14-1004.pdf.txt', 'D14-1006.pdf.txt', 'D14-1007.pdf.txt', 'D14-1008.pdf.txt', 'D14-1009.pdf.txt', 'D14-1012.pdf.txt', 'D14-1011.pdf.txt', 'D14-1010.pdf.txt', 'D14-1014.pdf.txt', 'D14-1016.pdf.txt', 'D14-1015.pdf.txt', 'D14-1017.pdf.txt', 'D14-1013.pdf.txt', 'D14-1018.pdf.txt', 'D14-1022.pdf.txt', 'D14-1021.pdf.txt', 'D14-1019.pdf.txt', 'D14-1020.pdf.txt', 'D14-1028.pdf.txt', 'D14-1026.pdf.txt', 'D14-1023.pdf.txt', 'D14-1027.pdf.txt', 'D14-1024.pdf.txt', 'D14-1025.pdf.txt', 'D14-1031.pdf.txt', 'D14-1030.pdf.txt', 'D14-1029.pdf.txt', 'D14-1034.pdf.txt', 'D14-1032.pdf.txt', 'D14-1036.pdf.txt', 'D14-1033.pdf.txt', 'D14-1035.pdf.txt', 'D14-1039.pdf.txt', 'D14-1038.pdf.txt', 'D14-1037.pdf.txt', 'D14-1040.pdf.txt', 'D14-1042.pdf.txt', 'D14-1041.pdf.txt', 'D14-1044.pdf.txt', 'D14-1046.pdf.txt', 'D14-1047.pdf.txt', 'D14-1045.pdf.txt', 'D14-1043.pdf.txt', 'D14-1048.pdf.txt', 'D14-1051.pdf.txt', 'D14-1050.pdf.txt', 'D14-1052.pdf.txt', 'D14-1053.pdf.txt', 'D14-1049.pdf.txt', 'D14-1054.pdf.txt', 'D14-1056.pdf.txt', 'D14-1057.pdf.txt', 'D14-1055.pdf.txt', 'D14-1061.pdf.txt', 'D14-1058.pdf.txt', 'D14-1060.pdf.txt', 'D14-1059.pdf.txt', 'D14-1066.pdf.txt', 'D14-1063.pdf.txt', 'D14-1065.pdf.txt', 'D14-1062.pdf.txt', 'D14-1064.pdf.txt', 'D14-1069.pdf.txt', 'D14-1071.pdf.txt', 'D14-1067.pdf.txt', 'D14-1068.pdf.txt', 'D14-1070.pdf.txt', 'D14-1075.pdf.txt', 'D14-1073.pdf.txt', 'D14-1076.pdf.txt', 'D14-1072.pdf.txt', 'D14-1077.pdf.txt', 'D14-1074.pdf.txt', 'D14-1081.pdf.txt', 'D14-1079.pdf.txt', 'D14-1080.pdf.txt', 'D14-1082.pdf.txt', 'D14-1078.pdf.txt', 'D14-1085.pdf.txt', 'D14-1083.pdf.txt', 'D14-1084.pdf.txt', 'D14-1088.pdf.txt', 'D14-1087.pdf.txt', 'D14-1089.pdf.txt', 'D14-1086.pdf.txt', 'D14-1092.pdf.txt', 'D14-1094.pdf.txt', 'D14-1093.pdf.txt', 'D14-1091.pdf.txt', 'D14-1090.pdf.txt', 'D14-1096.pdf.txt', 'D14-1097.pdf.txt', 'D14-1095.pdf.txt', 'D14-1096v2.pdf.txt', 'D14-1100.pdf.txt', 'D14-1098.pdf.txt', 'D14-1099.pdf.txt', 'D14-1102.pdf.txt', 'D14-1101.pdf.txt', 'D14-1103.pdf.txt', 'D14-1106.pdf.txt', 'D14-1107.pdf.txt', 'D14-1105.pdf.txt', 'D14-1104.pdf.txt', 'D14-1108.pdf.txt', 'D14-1109.pdf.txt', 'D14-1112.pdf.txt', 'D14-1113.pdf.txt', 'D14-1111.pdf.txt', 'D14-1110.pdf.txt', 'D14-1115.pdf.txt', 'D14-1116.pdf.txt', 'D14-1114.pdf.txt', 'D14-1117.pdf.txt', 'D14-1120.pdf.txt', 'D14-1123.pdf.txt', 'D14-1122.pdf.txt', 'D14-1121.pdf.txt', 'D14-1119.pdf.txt', 'D14-1118.pdf.txt', 'D14-1124.pdf.txt', 'A00-1000.pdf.txt', 'A00-1001.pdf.txt', 'A00-1003.pdf.txt', 'A00-1002.pdf.txt', 'A00-1004.pdf.txt', 'A00-1005.pdf.txt', 'A00-1006.pdf.txt', 'A00-1007.pdf.txt', 'A00-1008.pdf.txt', 'A00-1009.pdf.txt', 'A00-1011.pdf.txt', 'A00-1010.pdf.txt', 'A00-1012.pdf.txt', 'A00-1013.pdf.txt', 'A00-1014.pdf.txt', 'A00-1015.pdf.txt', 'A00-1017.pdf.txt', 'A00-1016.pdf.txt', 'A00-1019.pdf.txt', 'A00-1018.pdf.txt', 'A00-1020.pdf.txt', 'A00-1021.pdf.txt', 'A00-1022.pdf.txt', 'A00-1023.pdf.txt', 'A00-1024.pdf.txt', 'A00-1025.pdf.txt', 'A00-1027.pdf.txt', 'A00-1026.pdf.txt', 'A00-1029.pdf.txt', 'A00-1030.pdf.txt', 'A00-1028.pdf.txt', 'A00-1031.pdf.txt', 'A00-1032.pdf.txt', 'A00-1033.pdf.txt', 'A00-1035.pdf.txt', 'A00-1034.pdf.txt', 'A00-1036.pdf.txt', 'A00-1038.pdf.txt', 'A00-1037.pdf.txt', 'A00-1039.pdf.txt', 'A00-1040.pdf.txt', 'A00-1043.pdf.txt', 'A00-1041.pdf.txt', 'A00-1042.pdf.txt', 'A00-1044.pdf.txt', 'A00-2000.pdf.txt', 'A00-1045.pdf.txt', 'A00-1046.pdf.txt', 'A00-2001.pdf.txt', 'A00-2002.pdf.txt', 'A00-2006.pdf.txt', 'A00-2004.pdf.txt', 'A00-2005.pdf.txt', 'A00-2003.pdf.txt', 'A00-2009.pdf.txt', 'A00-2010.pdf.txt', 'A00-2008.pdf.txt', 'A00-2007.pdf.txt', 'A00-2012.pdf.txt', 'A00-2011.pdf.txt', 'A00-2014.pdf.txt', 'A00-2013.pdf.txt', 'A00-2015.pdf.txt', 'A00-2017.pdf.txt', 'A00-2016.pdf.txt', 'A00-2019.pdf.txt', 'A00-2018.pdf.txt', 'A00-2021.pdf.txt', 'A00-2020.pdf.txt', 'A00-2022.pdf.txt', 'A00-2024.pdf.txt', 'A00-2023.pdf.txt', 'A00-2025.pdf.txt', 'A00-2027.pdf.txt', 'A00-2028.pdf.txt', 'A00-2026.pdf.txt', 'A00-2031.pdf.txt', 'A00-2030.pdf.txt', 'A00-2029.pdf.txt', 'A00-2032.pdf.txt', 'A00-2034.pdf.txt', 'A00-2035.pdf.txt', 'A00-2033.pdf.txt', 'A00-2036.pdf.txt', 'A00-2038.pdf.txt', 'A00-2037.pdf.txt', 'A00-2039.pdf.txt', 'A00-2040.pdf.txt', 'A00-3000.pdf.txt', 'A00-2043.pdf.txt', 'A00-2042.pdf.txt', 'A00-2041.pdf.txt', 'A00-3001.pdf.txt', 'A00-3006.pdf.txt', 'A00-3003.pdf.txt', 'A00-3004.pdf.txt', 'A00-3002.pdf.txt', 'A00-3005.pdf.txt', 'A00-4000.pdf.txt', 'A83-1001.pdf.txt', 'A00-3007.pdf.txt', 'A83-1000.pdf.txt', 'A00-3008.pdf.txt', 'A83-1003.pdf.txt', 'A83-1002.pdf.txt', 'A83-1005.pdf.txt', 'A83-1004.pdf.txt', 'A83-1006.pdf.txt', 'A83-1012.pdf.txt', 'A83-1010.pdf.txt', 'A83-1007.pdf.txt', 'A83-1009.pdf.txt', 'A83-1008.pdf.txt', 'A83-1011.pdf.txt', 'A83-1018.pdf.txt', 'A83-1015.pdf.txt', 'A83-1013.pdf.txt', 'A83-1017.pdf.txt', 'A83-1016.pdf.txt', 'A83-1019.pdf.txt', 'A83-1014.pdf.txt', 'A83-1021.pdf.txt', 'A83-1020.pdf.txt', 'A83-1025.pdf.txt', 'A83-1022.pdf.txt', 'A83-1023.pdf.txt', 'A83-1024.pdf.txt', 'A83-1028.pdf.txt', 'A83-1031.pdf.txt', 'A83-1026.pdf.txt', 'A83-1030.pdf.txt', 'A83-1029.pdf.txt', 'A83-1027.pdf.txt', 'A88-1002.pdf.txt', 'A88-1004.pdf.txt', 'A83-1033.pdf.txt', 'A88-1000.pdf.txt', 'A83-1032.pdf.txt', 'A88-1001.pdf.txt', 'A88-1003.pdf.txt', 'A88-1009.pdf.txt', 'A88-1005.pdf.txt', 'A88-1010.pdf.txt', 'A88-1008.pdf.txt', 'A88-1007.pdf.txt', 'A88-1006.pdf.txt', 'A88-1013.pdf.txt', 'A88-1012.pdf.txt', 'A88-1011.pdf.txt', 'A88-1016.pdf.txt', 'A88-1014.pdf.txt', 'A88-1019.pdf.txt', 'A88-1018.pdf.txt', 'A88-1015.pdf.txt', 'A88-1017.pdf.txt', 'A88-1025.pdf.txt', 'A88-1024.pdf.txt', 'A88-1023.pdf.txt', 'A88-1020.pdf.txt', 'A88-1022.pdf.txt', 'A88-1021.pdf.txt', 'A88-1030.pdf.txt', 'A88-1028.pdf.txt', 'A88-1029.pdf.txt', 'A88-1031.pdf.txt', 'A88-1027.pdf.txt', 'A88-1026.pdf.txt', 'A88-1032.pdf.txt', 'A92-1000.pdf.txt', 'A88-1033.pdf.txt', 'A92-1001.pdf.txt', 'A88-1034.pdf.txt', 'A92-1004.pdf.txt', 'A92-1005.pdf.txt', 'A92-1002.pdf.txt', 'A92-1003.pdf.txt', 'A92-1006.pdf.txt', 'A92-1009.pdf.txt', 'A92-1008.pdf.txt', 'A92-1010.pdf.txt', 'A92-1007.pdf.txt', 'A92-1014.pdf.txt', 'A92-1015.pdf.txt', 'A92-1011.pdf.txt', 'A92-1013.pdf.txt', 'A92-1012.pdf.txt', 'A92-1020.pdf.txt', 'A92-1021.pdf.txt', 'A92-1018.pdf.txt', 'A92-1019.pdf.txt', 'A92-1017.pdf.txt', 'A92-1016.pdf.txt', 'A92-1024.pdf.txt', 'A92-1026.pdf.txt', 'A92-1023.pdf.txt', 'A92-1022.pdf.txt', 'A92-1025.pdf.txt', 'A92-1028.pdf.txt', 'A92-1027.pdf.txt', 'A92-1029.pdf.txt', 'A92-1031.pdf.txt', 'A92-1030.pdf.txt', 'A92-1034.pdf.txt', 'A92-1032.pdf.txt', 'A92-1035.pdf.txt', 'A92-1036.pdf.txt', 'A92-1033.pdf.txt', 'A92-1043.pdf.txt', 'A92-1037.pdf.txt', 'A92-1047.pdf.txt', 'A94-1000.pdf.txt', 'A92-1040.pdf.txt', 'A92-1041.pdf.txt', 'A92-1045.pdf.txt', 'A92-1046.pdf.txt', 'A92-1044.pdf.txt', 'A92-1039.pdf.txt', 'A92-1038.pdf.txt', 'A92-1042.pdf.txt', 'A94-1001.pdf.txt', 'A94-1002.pdf.txt', 'A94-1003.pdf.txt', 'A94-1004.pdf.txt', 'A94-1005.pdf.txt', 'A94-1008.pdf.txt', 'A94-1006.pdf.txt', 'A94-1007.pdf.txt', 'A94-1009.pdf.txt', 'A94-1010.pdf.txt', 'A94-1011.pdf.txt', 'A94-1012.pdf.txt', 'A94-1013.pdf.txt', 'A94-1014.pdf.txt', 'A94-1016.pdf.txt', 'A94-1015.pdf.txt', 'A94-1017.pdf.txt', 'A94-1018.pdf.txt', 'A94-1020.pdf.txt', 'A94-1019.pdf.txt', 'A94-1021.pdf.txt', 'A94-1022.pdf.txt', 'A94-1026.pdf.txt', 'A94-1025.pdf.txt', 'A94-1024.pdf.txt', 'A94-1023.pdf.txt', 'A94-1030.pdf.txt', 'A94-1029.pdf.txt', 'A94-1033.pdf.txt']\n"
          ]
        }
      ]
    },
    {
      "cell_type": "code",
      "source": [
        "from PyPDF2 import PdfFileReader as fileread\n",
        "def wordList(doc):\n",
        "  Wordlist=[]\n",
        "  pdfFileObj = open(doc, 'rb')\n",
        "  pdfReader = fileread(pdfFileObj)\n",
        "  pageObj = pdfReader.getPage(0)\n",
        "  Wordlist=pageObj.extractText()\n",
        "  return Wordlist"
      ],
      "metadata": {
        "id": "Sei28-mvpJOQ"
      },
      "execution_count": null,
      "outputs": []
    },
    {
      "cell_type": "code",
      "source": [
        "from gensim.parsing.preprocessing import remove_stopwords\n",
        "from string import punctuation as punct\n",
        "updatedlist=[]\n",
        "punctuations=punct\n",
        "\n",
        "def removePuncs(wordList):\n",
        "  wordList=[i.lower() for i in wordList]\n",
        "  i=0\n",
        "  while i < range(len(wordList)):\n",
        "    if wordList[i]=='\\n' or wordList[i] in punctuations:\n",
        "      temp=wordList[i]\n",
        "      wordList[i]=wordList[i].replace(temp,' ')\n",
        "    i=i+1\n",
        "  updatedlist=remove_stopwords(wordList)\n",
        "  return updatedlist\n"
      ],
      "metadata": {
        "id": "Gp_lXdT2rQsV"
      },
      "execution_count": null,
      "outputs": []
    },
    {
      "cell_type": "code",
      "source": [
        "from collections import Counter\n",
        "def termFrequencyInDoc(wordList):\n",
        "  return dict(Counter(wordList).most_common())"
      ],
      "metadata": {
        "id": "CeZCIoR4z4H8"
      },
      "execution_count": null,
      "outputs": []
    },
    {
      "cell_type": "code",
      "source": [
        "docfreq={}\n",
        "def wordDocFre(dicList):\n",
        "  allwords = set().union(*(doc.keys() for doc in dicList))\n",
        "  word=0\n",
        "  doc=0\n",
        "  while word < range(len(allwords)):\n",
        "    count=0\n",
        "    while doc < range(len(dicList)):\n",
        "      count+=1 if dicList[doc].get(word,0)!=0 else 0\n",
        "      doc+=1\n",
        "    docfreq[word]=count\n",
        "    word=word+1\n",
        "  return docfreq"
      ],
      "metadata": {
        "id": "U4_8OaHm1qbO"
      },
      "execution_count": null,
      "outputs": []
    },
    {
      "cell_type": "code",
      "source": [
        "from math import log\n",
        "def inverseDocFre(dicList,base):\n",
        "  for i in range(len(dicList)):\n",
        "    dicList[i]=log(len(fileNameList)+1/dicList[i],base)\n",
        "  return\n",
        "  "
      ],
      "metadata": {
        "id": "ijdNR6Dh5wJG"
      },
      "execution_count": null,
      "outputs": []
    },
    {
      "cell_type": "code",
      "source": [
        "def tfidf(docList):\n",
        "  listOfDic=[]\n",
        "  temp=None\n",
        "  for file in docList:\n",
        "    listOfDic.append(termFrequencyInDoc(removePunc(wordList(file))))\n",
        "\n",
        "  #temp=pd.DataFrame(listOfDic)    \n",
        "  docfreq=wordDocFre(listOfDic)\n",
        "  idf=inverseDocFre(docfreq,len(docList))\n",
        "  print(docfreq)\n",
        "  print(idf)\n",
        "  ret=[]\n",
        "  ret=list(map(lambda x:dict(map(lambda kv:(kv[0],kv[1]*idf[kv[0]]),x.items())),listOfDic))\n",
        "  return ret\n",
        "\n"
      ],
      "metadata": {
        "colab": {
          "base_uri": "https://localhost:8080/",
          "height": 130
        },
        "id": "iLKuoJsp-DGV",
        "outputId": "a73f688c-4197-457e-c4a2-744031fb71e3"
      },
      "execution_count": null,
      "outputs": [
        {
          "output_type": "error",
          "ename": "SyntaxError",
          "evalue": "ignored",
          "traceback": [
            "\u001b[0;36m  File \u001b[0;32m\"<ipython-input-26-b37be5fe5d32>\"\u001b[0;36m, line \u001b[0;32m2\u001b[0m\n\u001b[0;31m    \u001b[0m\n\u001b[0m    ^\u001b[0m\n\u001b[0;31mSyntaxError\u001b[0m\u001b[0;31m:\u001b[0m unexpected EOF while parsing\n"
          ]
        }
      ]
    },
    {
      "cell_type": "code",
      "source": [
        "temp=tfidf(fileNameList)"
      ],
      "metadata": {
        "id": "R8GPIAiTlG4B"
      },
      "execution_count": null,
      "outputs": []
    },
    {
      "cell_type": "code",
      "source": [
        "print(temp[0])\n",
        "tfidfVal=temp"
      ],
      "metadata": {
        "id": "McPVdLqflL78"
      },
      "execution_count": null,
      "outputs": []
    },
    {
      "cell_type": "code",
      "source": [
        "def query_f(query):\n",
        "  query_vocab = []\n",
        "  for word in query.split():\n",
        "      if word not in query_vocab:\n",
        "          query_vocab.append(word)\n",
        "  query_wc = {} \n",
        "  for word in query_vocab:\n",
        "      query_wc[word] = query.split().count(word)\n",
        "  \n",
        "  relevance_scores = {} \n",
        "  for id,doc in enumerate(fileNameList):\n",
        "      score = 0 \n",
        "      for word in query_vocab:\n",
        "          score += query_wc[word] * tfidfVal[id].get(word,0)\n",
        "      relevance_scores[doc] = score\n",
        "  top_five=sorted(relevance_scores.items(), key=lambda kv:\n",
        "                  (kv[1], kv[0]),reverse=True)[:5]\n",
        "  print(\"\\n\\n\") \n",
        "  print(query)\n",
        "  for i in top_five:\n",
        "    print(i)\n",
        "  print(\"\\n\")"
      ],
      "metadata": {
        "id": "otyef1d7lMmn"
      },
      "execution_count": null,
      "outputs": []
    },
    {
      "cell_type": "code",
      "source": [
        "q=[\n",
        "\"LDA\",\n",
        "\"Topic modelling\",\n",
        "\"Generative models\",\n",
        "\"Semantic relationships between terms\",\n",
        "\"Natural Language Processing\",\n",
        "\"Text Mining\",\n",
        "\"Translation model\",\n",
        "\"Learning procedures for the lexicon\",\n",
        "\"Semantic evaluations\",\n",
        "\"System results and combination\",]\n",
        "for i in q:\n",
        "  query_f(i)"
      ],
      "metadata": {
        "id": "9gzGRxJElRMn"
      },
      "execution_count": null,
      "outputs": []
    },
    {
      "cell_type": "code",
      "source": [],
      "metadata": {
        "id": "RSLxbX8OlUkq"
      },
      "execution_count": null,
      "outputs": []
    },
    {
      "cell_type": "markdown",
      "metadata": {
        "id": "xAi85czDo7CH"
      },
      "source": [
        "### TF-IDF Weightage Sample Code\n",
        "This is a sample code to give students an idea of how TF-IDF weightage model can be applied to calculate relevance score of documents.\n",
        "\n",
        "The example is taken from **lectures**."
      ]
    },
    {
      "cell_type": "markdown",
      "metadata": {
        "id": "zZVkz_YRo7CH"
      },
      "source": [
        "**P.S Do not get confused with the answers provided for TF-IDF in lecture 4-5, since the example shown had documents from d1-d5 but in actual the collection was large, hence M and k are actually unknown in that solved solution.** <br>\n",
        "**In this example, M = 5 as it is assumed that the collection has 5 docs only.**"
      ]
    },
    {
      "cell_type": "markdown",
      "metadata": {
        "id": "9cnuaEhqo7CI"
      },
      "source": [
        "<h3 style = 'color:purple;'>Vector Space Model (TF-IDF Weightage Model)</h3>\n",
        "\n",
        "$$ f(q,d) = sim(q,d) =  \\sum_{i=1}^n x_iy_i $$ \n",
        "q = (x_1,.....,x_n) <br>\n",
        "d = (y_1,.....,y_n) <br>\n",
        "x_i = count of word W_i in query. <br>\n",
        "y_i = TF-IDF of word W_i in doc i.e $$ y_i = C(W_i,doc) * log_2 \\frac {M+1} {k} $$\n",
        "M = number of documents in the collection <br>\n",
        "k = document frequency for every word in corpus\n"
      ]
    },
    {
      "cell_type": "code",
      "execution_count": null,
      "metadata": {
        "id": "PD0sZeVIo7CJ"
      },
      "outputs": [],
      "source": [
        "#lets say we have the following documents\n",
        "documents = {\n",
        "    \"d1\" : \"news about\",\n",
        "    \"d2\" : \"news about organic food campaign\",\n",
        "    \"d3\" : \"news of presidential campaign\",\n",
        "    \"d4\" : \"news of presidential campaign presidential candidate\",\n",
        "    \"d5\" : \"news of organic food campaign campaign campaign campaign\"\n",
        "} # a dictionary with doc# as key and doc content as value"
      ]
    },
    {
      "cell_type": "code",
      "execution_count": null,
      "metadata": {
        "colab": {
          "base_uri": "https://localhost:8080/"
        },
        "id": "tywh-LX4o7CP",
        "outputId": "8c9f4527-b37e-4908-fba8-8ee43e37fff0"
      },
      "outputs": [
        {
          "data": {
            "text/plain": [
              "{'d1': 'news about',\n",
              " 'd2': 'news about organic food campaign',\n",
              " 'd3': 'news of presidential campaign',\n",
              " 'd4': 'news of presidential campaign presidential candidate',\n",
              " 'd5': 'news of organic food campaign campaign campaign campaign'}"
            ]
          },
          "execution_count": 3,
          "metadata": {},
          "output_type": "execute_result"
        }
      ],
      "source": [
        "#visualize the dictionary\n",
        "documents"
      ]
    },
    {
      "cell_type": "code",
      "execution_count": null,
      "metadata": {
        "id": "BC3nCQGAo7CS"
      },
      "outputs": [],
      "source": [
        "#create a corpus ccontaining the vocabulary of words in the documents\n",
        "corpus = [] # a list that will store words of the vocabulary\n",
        "for doc in documents.values(): #iterate through documents \n",
        "    for word in doc.split(): #go through each word in the current doc\n",
        "        if not word in corpus: \n",
        "            corpus.append(word) #add word in corpus if not already added"
      ]
    },
    {
      "cell_type": "code",
      "execution_count": null,
      "metadata": {
        "colab": {
          "base_uri": "https://localhost:8080/"
        },
        "id": "q6BWkOMAo7CU",
        "outputId": "fe359cb1-2097-4a2f-c6c3-67d9cf58b797"
      },
      "outputs": [
        {
          "data": {
            "text/plain": [
              "['news',\n",
              " 'about',\n",
              " 'organic',\n",
              " 'food',\n",
              " 'campaign',\n",
              " 'of',\n",
              " 'presidential',\n",
              " 'candidate']"
            ]
          },
          "execution_count": 5,
          "metadata": {},
          "output_type": "execute_result"
        }
      ],
      "source": [
        "#visualize the corpus \n",
        "corpus"
      ]
    },
    {
      "cell_type": "code",
      "execution_count": null,
      "metadata": {
        "id": "-wKx5ximo7CX"
      },
      "outputs": [],
      "source": [
        "#lets create a dictionary that will store document frequency for each word in the corpus\n",
        "df_corpus = {} #document frequency for every word in corpus\n",
        "for word in corpus:\n",
        "    k = 0 #initial document frequency set to 0\n",
        "    for doc in documents.values(): #iterate through documents\n",
        "        if word in doc.split(): #check if word in doc\n",
        "            k+=1 \n",
        "    df_corpus[word] = k"
      ]
    },
    {
      "cell_type": "code",
      "execution_count": null,
      "metadata": {
        "colab": {
          "base_uri": "https://localhost:8080/"
        },
        "id": "8KUYj1iCo7CZ",
        "outputId": "251b22ec-6b96-4ed9-f9aa-6a30b2191a27"
      },
      "outputs": [
        {
          "data": {
            "text/plain": [
              "{'news': 5,\n",
              " 'about': 2,\n",
              " 'organic': 2,\n",
              " 'food': 2,\n",
              " 'campaign': 4,\n",
              " 'of': 3,\n",
              " 'presidential': 2,\n",
              " 'candidate': 1}"
            ]
          },
          "execution_count": 7,
          "metadata": {},
          "output_type": "execute_result"
        }
      ],
      "source": [
        "#verify the document frequency values\n",
        "df_corpus"
      ]
    },
    {
      "cell_type": "code",
      "execution_count": null,
      "metadata": {
        "id": "evrsElsio7Cc"
      },
      "outputs": [],
      "source": [
        "#since we have calculated k (document frequency) for all the words in the corpus, next step is to calculate idf\n",
        "M = len(documents) #number of documents in the collection\n",
        "idf_corpus = {} #inverse_document frequency for every word in corpus\n",
        "for word in corpus:\n",
        "    idf_corpus[word] = np.log2((M+1) / df_corpus[word]) #log_2 ((M+1)/k) i.e inverse document frequency"
      ]
    },
    {
      "cell_type": "code",
      "execution_count": null,
      "metadata": {
        "colab": {
          "base_uri": "https://localhost:8080/"
        },
        "id": "-zqu-Od0o7Cf",
        "outputId": "8865a3d2-b973-48a5-a3ab-33cee0a7844c"
      },
      "outputs": [
        {
          "data": {
            "text/plain": [
              "{'news': 0.2630344058337938,\n",
              " 'about': 1.584962500721156,\n",
              " 'organic': 1.584962500721156,\n",
              " 'food': 1.584962500721156,\n",
              " 'campaign': 0.5849625007211562,\n",
              " 'of': 1.0,\n",
              " 'presidential': 1.584962500721156,\n",
              " 'candidate': 2.584962500721156}"
            ]
          },
          "execution_count": 9,
          "metadata": {},
          "output_type": "execute_result"
        }
      ],
      "source": [
        "#visualize idf values\n",
        "idf_corpus"
      ]
    },
    {
      "cell_type": "markdown",
      "metadata": {
        "id": "ksTOOZgeo7Ci"
      },
      "source": [
        "We have successfully calculated inverse_document_frequency for all the words in the corpus. Now, using the idf values, we need to calculate tf-idf for each word with respect to a particular document."
      ]
    },
    {
      "cell_type": "code",
      "execution_count": null,
      "metadata": {
        "id": "MbTGhfJuo7Ci"
      },
      "outputs": [],
      "source": [
        "#calculating tf_idf\n",
        "tf_idf_docs = {} #will store tf_idf scores for document words\n",
        "for doc_id in documents.keys():\n",
        "    tf_idf_docs[doc_id] = {} #initialize empty dictionary for each doc_id"
      ]
    },
    {
      "cell_type": "code",
      "execution_count": null,
      "metadata": {
        "colab": {
          "base_uri": "https://localhost:8080/"
        },
        "id": "wI1-7jRuo7Ck",
        "outputId": "d82acfc2-e144-4953-eac2-8d0940ccf451"
      },
      "outputs": [
        {
          "data": {
            "text/plain": [
              "{'d1': {}, 'd2': {}, 'd3': {}, 'd4': {}, 'd5': {}}"
            ]
          },
          "execution_count": 31,
          "metadata": {},
          "output_type": "execute_result"
        }
      ],
      "source": [
        "#visualize tf_idf initial state\n",
        "tf_idf_docs"
      ]
    },
    {
      "cell_type": "code",
      "execution_count": null,
      "metadata": {
        "id": "tjIg5jajo7Cn"
      },
      "outputs": [],
      "source": [
        "#finalizing the tf_idf calculations\n",
        "for word in corpus:\n",
        "    for doc_id,doc in documents.items(): #iterate through key,value pairs where key = doc_id and value = doc content\n",
        "        tf_idf_docs[doc_id][word] = doc.split().count(word) * idf_corpus[word] #C(W_i,doc) * IDF(W_i) "
      ]
    },
    {
      "cell_type": "code",
      "execution_count": null,
      "metadata": {
        "colab": {
          "base_uri": "https://localhost:8080/"
        },
        "id": "Oz9d1OB4o7Cp",
        "outputId": "709e74d8-f7c8-477f-bec6-465f6cdc8493"
      },
      "outputs": [
        {
          "data": {
            "text/plain": [
              "{'d1': {'about': 1.584962500721156,\n",
              "  'campaign': 0.0,\n",
              "  'candidate': 0.0,\n",
              "  'food': 0.0,\n",
              "  'news': 0.2630344058337938,\n",
              "  'of': 0.0,\n",
              "  'organic': 0.0,\n",
              "  'presidential': 0.0},\n",
              " 'd2': {'about': 1.584962500721156,\n",
              "  'campaign': 0.5849625007211562,\n",
              "  'candidate': 0.0,\n",
              "  'food': 1.584962500721156,\n",
              "  'news': 0.2630344058337938,\n",
              "  'of': 0.0,\n",
              "  'organic': 1.584962500721156,\n",
              "  'presidential': 0.0},\n",
              " 'd3': {'about': 0.0,\n",
              "  'campaign': 0.5849625007211562,\n",
              "  'candidate': 0.0,\n",
              "  'food': 0.0,\n",
              "  'news': 0.2630344058337938,\n",
              "  'of': 1.0,\n",
              "  'organic': 0.0,\n",
              "  'presidential': 1.584962500721156},\n",
              " 'd4': {'about': 0.0,\n",
              "  'campaign': 0.5849625007211562,\n",
              "  'candidate': 2.584962500721156,\n",
              "  'food': 0.0,\n",
              "  'news': 0.2630344058337938,\n",
              "  'of': 1.0,\n",
              "  'organic': 0.0,\n",
              "  'presidential': 3.169925001442312},\n",
              " 'd5': {'about': 0.0,\n",
              "  'campaign': 2.3398500028846247,\n",
              "  'candidate': 0.0,\n",
              "  'food': 1.584962500721156,\n",
              "  'news': 0.2630344058337938,\n",
              "  'of': 1.0,\n",
              "  'organic': 1.584962500721156,\n",
              "  'presidential': 0.0}}"
            ]
          },
          "execution_count": 33,
          "metadata": {},
          "output_type": "execute_result"
        }
      ],
      "source": [
        "#visualize final tf_idf scores for each doc\n",
        "tf_idf_docs"
      ]
    },
    {
      "cell_type": "markdown",
      "metadata": {
        "id": "0qeVZh1Do7Cs"
      },
      "source": [
        "### Querying the documents for relevance scores\n",
        "Since we have calculated the term frequencies for all the documents in our collection, let us calcualte the relevance score of each document for a given query."
      ]
    },
    {
      "cell_type": "code",
      "execution_count": null,
      "metadata": {
        "colab": {
          "base_uri": "https://localhost:8080/",
          "height": 35
        },
        "id": "YQbLWueKo7Cs",
        "outputId": "fc1edb76-fb46-42da-9a68-ce63325ee141"
      },
      "outputs": [
        {
          "data": {
            "application/vnd.google.colaboratory.intrinsic+json": {
              "type": "string"
            },
            "text/plain": [
              "'news about presidential campaign'"
            ]
          },
          "execution_count": 34,
          "metadata": {},
          "output_type": "execute_result"
        }
      ],
      "source": [
        "query = \"news about presidential campaign\" #the query\n",
        "query"
      ]
    },
    {
      "cell_type": "code",
      "execution_count": null,
      "metadata": {
        "id": "xQOo4-Zso7Cv"
      },
      "outputs": [],
      "source": [
        "query_vocab = [] # will store the unique words that occur in the query\n",
        "for word in query.split():\n",
        "    if word not in query_vocab:\n",
        "        query_vocab.append(word)"
      ]
    },
    {
      "cell_type": "code",
      "execution_count": null,
      "metadata": {
        "colab": {
          "base_uri": "https://localhost:8080/"
        },
        "id": "W3NqsUaLo7Cx",
        "outputId": "30615ffd-7be6-4294-b4a7-024f7fe804b2"
      },
      "outputs": [
        {
          "data": {
            "text/plain": [
              "['news', 'about', 'presidential', 'campaign']"
            ]
          },
          "execution_count": 36,
          "metadata": {},
          "output_type": "execute_result"
        }
      ],
      "source": [
        "query_vocab # the unique words in the query"
      ]
    },
    {
      "cell_type": "code",
      "execution_count": null,
      "metadata": {
        "id": "j-t1ncfxo7Cz"
      },
      "outputs": [],
      "source": [
        "query_wc = {} # a dictionary to store count of a word in the query (i.e x_i according to lecture slides terminology)\n",
        "for word in query_vocab:\n",
        "    query_wc[word] = query.split().count(word)"
      ]
    },
    {
      "cell_type": "code",
      "execution_count": null,
      "metadata": {
        "colab": {
          "base_uri": "https://localhost:8080/"
        },
        "id": "S5V4XU4Yo7C1",
        "outputId": "ff48f7d7-7d84-4edf-8b1c-6085fbfa8bc5"
      },
      "outputs": [
        {
          "data": {
            "text/plain": [
              "{'about': 1, 'campaign': 1, 'news': 1, 'presidential': 1}"
            ]
          },
          "execution_count": 38,
          "metadata": {},
          "output_type": "execute_result"
        }
      ],
      "source": [
        "query_wc # the count of each word that occurs in the query"
      ]
    },
    {
      "cell_type": "code",
      "execution_count": null,
      "metadata": {
        "id": "oxnp-cUXo7C3"
      },
      "outputs": [],
      "source": [
        "relevance_scores = {} # a dictionary that will store the relevance score for each doc\n",
        "# doc_id will be the key and relevance score the value for this dictionary\n",
        "for doc_id in documents.keys():\n",
        "    score = 0 #initialze the score for the doc to 0 at the start\n",
        "    for word in query_vocab:\n",
        "        score += query_wc[word] * tf_idf_docs[doc_id][word] # count of word in query * term_freq of the word\n",
        "    relevance_scores[doc_id] = score"
      ]
    },
    {
      "cell_type": "code",
      "execution_count": null,
      "metadata": {
        "colab": {
          "base_uri": "https://localhost:8080/"
        },
        "id": "CF1xhuzTo7C5",
        "outputId": "32a06822-d958-46c3-87a9-efe174417961"
      },
      "outputs": [
        {
          "name": "stdout",
          "output_type": "stream",
          "text": [
            "Document Relevancy Scores\n",
            " {'d1': 1.84799690655495, 'd2': 2.432959407276106, 'd3': 2.432959407276106, 'd4': 4.017921907997263, 'd5': 2.6028844087184186}\n"
          ]
        }
      ],
      "source": [
        "# lets print the relevance scores for the query\n",
        "print(\"Document Relevancy Scores\\n\",relevance_scores)"
      ]
    }
  ],
  "metadata": {
    "colab": {
      "collapsed_sections": [],
      "provenance": []
    },
    "kernelspec": {
      "display_name": "Python 3 (ipykernel)",
      "language": "python",
      "name": "python3"
    },
    "language_info": {
      "codemirror_mode": {
        "name": "ipython",
        "version": 3
      },
      "file_extension": ".py",
      "mimetype": "text/x-python",
      "name": "python",
      "nbconvert_exporter": "python",
      "pygments_lexer": "ipython3",
      "version": "3.9.7"
    }
  },
  "nbformat": 4,
  "nbformat_minor": 0
}